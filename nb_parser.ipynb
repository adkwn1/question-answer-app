{
 "cells": [
  {
   "cell_type": "code",
   "execution_count": null,
   "metadata": {},
   "outputs": [],
   "source": [
    "import pandas as pd\n",
    "import numpy as np\n",
    "\n",
    "import re\n",
    "from bs4 import BeautifulSoup\n",
    "import contractions"
   ]
  },
  {
   "cell_type": "code",
   "execution_count": null,
   "metadata": {},
   "outputs": [],
   "source": [
    "df_questions = pd.read_csv('datasets/Questions.csv', encoding = 'ISO-8859-1')\n",
    "df_answers = pd.read_csv('datasets/Answers.csv', encoding = 'ISO-8859-1')\n",
    "df_tags = pd.read_csv('datasets/Tags.csv', encoding='ISO-8859-1')"
   ]
  },
  {
   "cell_type": "code",
   "execution_count": null,
   "metadata": {},
   "outputs": [],
   "source": [
    "df_questions.info()\n",
    "display(df_questions.sample(5))\n",
    "\n",
    "df_answers.info()\n",
    "display(df_answers.sample(5))\n",
    "\n",
    "df_tags.info()\n",
    "display(df_tags.sample(5))"
   ]
  },
  {
   "cell_type": "code",
   "execution_count": null,
   "metadata": {},
   "outputs": [],
   "source": [
    "df_questions['Body'] = df_questions['Body'].apply(lambda x: BeautifulSoup(x, 'html.parser').get_text())\n",
    "df_questions['Title'] = df_questions['Title'].apply(lambda x: BeautifulSoup(x, 'html.parser').get_text())\n",
    "df_answers['Body'] = df_answers['Body'].apply(lambda x: BeautifulSoup(x, 'html.parser').get_text())"
   ]
  },
  {
   "cell_type": "code",
   "execution_count": null,
   "metadata": {},
   "outputs": [],
   "source": [
    "def clean_prompt(text):\n",
    "    s = re.sub(r\"\\'\", \"'\", text)        # match all literal apostrophe pattern and replace with a single apostrophe\n",
    "    s = re.sub(r\"\\n\", ' ', s)           # match all literal new line pattern and replace with single whitespace\n",
    "    s = re.sub(r\"\\xa0\", ' ', s)         # match all literal non-breakable space pattern and replace with single whitespace\n",
    "    \n",
    "    s = contractions.fix(s)             # expand contractions\n",
    "    \n",
    "    s = re.sub('\\s+', ' ', s)           # match all one or more whitespace and replace with a single whitespace\n",
    "    s = re.sub(r\"[^a-zA-Z]\", ' ', s)    # remove all non-alphabetical characters\n",
    "    s = s.strip()                       # strip leading\\trailing whitespace\n",
    "\n",
    "    return (' '.join(s.split())).lower() # returns cleaned text in lower case"
   ]
  },
  {
   "cell_type": "code",
   "execution_count": null,
   "metadata": {},
   "outputs": [],
   "source": [
    "def clean_text(text):\n",
    "    s = re.sub(r\"\\'\", \"'\", text)    # match all literal apostrophe pattern and replace with a single apostrophe\n",
    "    s = re.sub(r\"\\n\", ' ', s)       # match all literal new line pattern and replace with single whitespace\n",
    "    s = re.sub(r\"\\xa0\", ' ', s)     # match all literal non-breakable space pattern and replace with single whitespace \n",
    "    s = re.sub('\\s+', ' ', s)       # match all one or more whitespace and replace with a single whitespace\n",
    "    s = s.strip()                   # strip leading\\trailing whitespace\n",
    "\n",
    "    return s"
   ]
  },
  {
   "cell_type": "code",
   "execution_count": null,
   "metadata": {},
   "outputs": [],
   "source": [
    "df_questions['Body'] = df_questions['Body'].apply(lambda x: clean_text(x))\n",
    "df_questions['Title'] = df_questions['Title'].apply(lambda x: clean_text(x))\n",
    "df_answers['Body'] = df_answers['Body'].apply(lambda x: clean_text(x))"
   ]
  },
  {
   "cell_type": "code",
   "execution_count": null,
   "metadata": {},
   "outputs": [],
   "source": [
    "df_questions.rename(columns={'Id':'ParentId'}, inplace=True)\n",
    "df_questions = df_questions[['ParentId', 'Title', 'Body']]\n",
    "\n",
    "df_answers.rename(columns={'Body':'Response'}, inplace=True)\n",
    "df_answers = df_answers[['ParentId', 'Score', 'Response']]"
   ]
  },
  {
   "cell_type": "code",
   "execution_count": null,
   "metadata": {},
   "outputs": [],
   "source": [
    "df_combined = df_answers.merge(df_questions, on='ParentId', how='inner')"
   ]
  },
  {
   "cell_type": "code",
   "execution_count": null,
   "metadata": {},
   "outputs": [],
   "source": [
    "df_combined.info()"
   ]
  },
  {
   "cell_type": "code",
   "execution_count": null,
   "metadata": {},
   "outputs": [],
   "source": [
    "display(df_combined.sample(10).sort_values('Score', ascending=False))"
   ]
  },
  {
   "cell_type": "code",
   "execution_count": null,
   "metadata": {},
   "outputs": [],
   "source": [
    "display(df_combined.groupby('ParentId')['Score'].count().reset_index(name='Count'))\n",
    "display(df_combined)"
   ]
  },
  {
   "cell_type": "code",
   "execution_count": null,
   "metadata": {},
   "outputs": [],
   "source": [
    "df_combined.to_csv('datasets/combined_cleaned.csv', index=False)"
   ]
  },
  {
   "cell_type": "code",
   "execution_count": null,
   "metadata": {},
   "outputs": [],
   "source": [
    "df_final_sample = df_combined[df_combined['Score'] > 5]\n",
    "df_final_sample.dropna(inplace=True)\n",
    "df_final_sample['title_body'] = df_final_sample['Title'] + ' ' + df_final_sample['Body']\n",
    "df_final_sample['title_answer'] = df_final_sample['Title'] + ' ' + df_final_sample['Response']\n",
    "df_final_sample.reset_index(inplace=True)"
   ]
  },
  {
   "cell_type": "code",
   "execution_count": null,
   "metadata": {},
   "outputs": [],
   "source": [
    "df_final_sample.to_csv('datasets/final_sample.csv', index=False)"
   ]
  }
 ],
 "metadata": {
  "kernelspec": {
   "display_name": "Python 3",
   "language": "python",
   "name": "python3"
  },
  "language_info": {
   "codemirror_mode": {
    "name": "ipython",
    "version": 3
   },
   "file_extension": ".py",
   "mimetype": "text/x-python",
   "name": "python",
   "nbconvert_exporter": "python",
   "pygments_lexer": "ipython3",
   "version": "3.11.1"
  },
  "orig_nbformat": 4
 },
 "nbformat": 4,
 "nbformat_minor": 2
}
